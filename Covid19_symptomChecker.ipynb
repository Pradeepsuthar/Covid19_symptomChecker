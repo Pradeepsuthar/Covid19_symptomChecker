{
  "nbformat": 4,
  "nbformat_minor": 0,
  "metadata": {
    "colab": {
      "name": "Covid19_symptomChecker.ipynb",
      "provenance": [],
      "collapsed_sections": [],
      "authorship_tag": "ABX9TyNlMhtP23BHaZTlU02/yoEJ",
      "include_colab_link": true
    },
    "kernelspec": {
      "name": "python3",
      "display_name": "Python 3"
    }
  },
  "cells": [
    {
      "cell_type": "markdown",
      "metadata": {
        "id": "view-in-github",
        "colab_type": "text"
      },
      "source": [
        "<a href=\"https://colab.research.google.com/github/Pradeepsuthar/Covid19_symptomChecker/blob/master/Covid19_symptomChecker.ipynb\" target=\"_parent\"><img src=\"https://colab.research.google.com/assets/colab-badge.svg\" alt=\"Open In Colab\"/></a>"
      ]
    },
    {
      "cell_type": "code",
      "metadata": {
        "id": "AE0j7utz-gAE",
        "colab_type": "code",
        "colab": {}
      },
      "source": [
        "import pandas as pd\n",
        "import numpy as np\n",
        "from sklearn.linear_model import LogisticRegression"
      ],
      "execution_count": 0,
      "outputs": []
    },
    {
      "cell_type": "code",
      "metadata": {
        "id": "iEBTcM3L-kkJ",
        "colab_type": "code",
        "colab": {}
      },
      "source": [
        "df = pd.read_csv('com.csv')"
      ],
      "execution_count": 0,
      "outputs": []
    },
    {
      "cell_type": "code",
      "metadata": {
        "id": "xBq3fXT4--fJ",
        "colab_type": "code",
        "colab": {}
      },
      "source": [
        "# Train test spliting\n",
        "def split_data(data, ratio):\n",
        "  np.random.seed(42)\n",
        "  shuffled = np.random.permutation(len(data))\n",
        "  test_set_size = int(len(data) * ratio)\n",
        "  test_indices = shuffled[ :test_set_size]\n",
        "  train_indices = shuffled[test_set_size: ]\n",
        "  return data.iloc[train_indices], data.iloc[test_indices]"
      ],
      "execution_count": 0,
      "outputs": []
    },
    {
      "cell_type": "code",
      "metadata": {
        "id": "8N4DaqNR_Eop",
        "colab_type": "code",
        "colab": {}
      },
      "source": [
        "train, test = split_data(df, 0.2)\n",
        "\n",
        "x_train = train[['fever','bodyPain','age','runnyNose','diffBreath']].to_numpy()\n",
        "x_test = test[['fever','bodyPain','age','runnyNose','diffBreath']].to_numpy()\n",
        "\n",
        "y_train = train[['infectionProb']].to_numpy().reshape(119,)\n",
        "y_test = test[['infectionProb']].to_numpy().reshape(29,)"
      ],
      "execution_count": 0,
      "outputs": []
    },
    {
      "cell_type": "code",
      "metadata": {
        "id": "fdhY7MZ9_Ldg",
        "colab_type": "code",
        "colab": {}
      },
      "source": [
        "clf = LogisticRegression()\n",
        "clf.fit(x_train, y_train)\n",
        "\n",
        "user_input = [1,1,23,0,1] # ['fever','bodyPain','age','runnyNose','diffBreath']\n",
        "\n",
        "infect = clf.predict([user_input])\n",
        "infect_prob = clf.predict_proba([user_input])\n",
        "infect_chance = round(infect_prob[0][1]*100)"
      ],
      "execution_count": 0,
      "outputs": []
    },
    {
      "cell_type": "code",
      "metadata": {
        "id": "Q_0d93YC-yIS",
        "colab_type": "code",
        "colab": {
          "base_uri": "https://localhost:8080/",
          "height": 35
        },
        "outputId": "6ea5c7a8-238d-4c0a-e1a2-c0c2d5238de3"
      },
      "source": [
        "if infect:\n",
        "  print(\"Chances of coronavirus : %s%s \"%(str(infect_chance),chr(37))) \n",
        "else:\n",
        "  print(\"Chances of coronavirus : %s%s \"%(str(infect_chance),chr(37)))"
      ],
      "execution_count": 28,
      "outputs": [
        {
          "output_type": "stream",
          "text": [
            "Chances of coronavirus : 68.0% \n"
          ],
          "name": "stdout"
        }
      ]
    },
    {
      "cell_type": "code",
      "metadata": {
        "id": "jpBZvxXg_Sb_",
        "colab_type": "code",
        "colab": {}
      },
      "source": [
        ""
      ],
      "execution_count": 0,
      "outputs": []
    }
  ]
}